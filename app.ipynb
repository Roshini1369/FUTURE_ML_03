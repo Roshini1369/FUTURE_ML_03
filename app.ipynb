{
 "cells": [
  {
   "cell_type": "code",
   "execution_count": 11,
   "id": "d4682e27-5a58-4459-bbbd-d6a9b51ebec8",
   "metadata": {},
   "outputs": [],
   "source": [
    "import pandas as pd\n",
    "\n",
    "df = pd.read_csv(\"customer_support_tickets.csv.zip\")\n",
    "df = df.dropna(subset=[\"Ticket Description\", \"Ticket Type\", \"Resolution\"])\n"
   ]
  },
  {
   "cell_type": "code",
   "execution_count": 12,
   "id": "4b0a78f6-73cd-4b91-a767-47c77a258b0b",
   "metadata": {},
   "outputs": [],
   "source": [
    "texts = df[\"Ticket Description\"].values\n",
    "labels = df[\"Ticket Type\"].values\n",
    "responses = df[\"Resolution\"].values\n"
   ]
  },
  {
   "cell_type": "code",
   "execution_count": 13,
   "id": "ecdb2642-e218-4d10-8e3c-d42de35c956e",
   "metadata": {},
   "outputs": [],
   "source": [
    "from sklearn.preprocessing import LabelEncoder\n",
    "from sklearn.feature_extraction.text import TfidfVectorizer\n",
    "\n",
    "le = LabelEncoder()\n",
    "y = le.fit_transform(labels)\n",
    "\n",
    "vectorizer = TfidfVectorizer(max_features=1000)\n",
    "X = vectorizer.fit_transform(texts).toarray()\n"
   ]
  },
  {
   "cell_type": "code",
   "execution_count": 14,
   "id": "7758d1ed-6807-44d8-8add-0f422ba39579",
   "metadata": {},
   "outputs": [
    {
     "name": "stdout",
     "output_type": "stream",
     "text": [
      "Epoch 1/20\n",
      "347/347 [==============================] - 4s 6ms/step - loss: 1.6123 - accuracy: 0.1986\n",
      "Epoch 2/20\n",
      "347/347 [==============================] - 2s 7ms/step - loss: 1.5999 - accuracy: 0.2398\n",
      "Epoch 3/20\n",
      "347/347 [==============================] - 2s 7ms/step - loss: 1.5709 - accuracy: 0.2875\n",
      "Epoch 4/20\n",
      "347/347 [==============================] - 2s 7ms/step - loss: 1.5150 - accuracy: 0.3348\n",
      "Epoch 5/20\n",
      "347/347 [==============================] - 2s 6ms/step - loss: 1.4443 - accuracy: 0.3915\n",
      "Epoch 6/20\n",
      "347/347 [==============================] - 2s 7ms/step - loss: 1.3270 - accuracy: 0.4576\n",
      "Epoch 7/20\n",
      "347/347 [==============================] - 3s 8ms/step - loss: 1.2099 - accuracy: 0.5316\n",
      "Epoch 8/20\n",
      "347/347 [==============================] - 3s 8ms/step - loss: 1.1012 - accuracy: 0.5793\n",
      "Epoch 9/20\n",
      "347/347 [==============================] - 2s 7ms/step - loss: 0.9924 - accuracy: 0.6208\n",
      "Epoch 10/20\n",
      "347/347 [==============================] - 2s 7ms/step - loss: 0.8935 - accuracy: 0.6587\n",
      "Epoch 11/20\n",
      "347/347 [==============================] - 2s 7ms/step - loss: 0.8109 - accuracy: 0.7021\n",
      "Epoch 12/20\n",
      "347/347 [==============================] - 2s 6ms/step - loss: 0.7428 - accuracy: 0.7194\n",
      "Epoch 13/20\n",
      "347/347 [==============================] - 2s 7ms/step - loss: 0.6916 - accuracy: 0.7530\n",
      "Epoch 14/20\n",
      "347/347 [==============================] - 2s 6ms/step - loss: 0.6174 - accuracy: 0.7732\n",
      "Epoch 15/20\n",
      "347/347 [==============================] - 2s 7ms/step - loss: 0.5567 - accuracy: 0.7996\n",
      "Epoch 16/20\n",
      "347/347 [==============================] - 2s 6ms/step - loss: 0.5446 - accuracy: 0.8028\n",
      "Epoch 17/20\n",
      "347/347 [==============================] - 2s 6ms/step - loss: 0.5077 - accuracy: 0.8155\n",
      "Epoch 18/20\n",
      "347/347 [==============================] - 2s 6ms/step - loss: 0.4801 - accuracy: 0.8313\n",
      "Epoch 19/20\n",
      "347/347 [==============================] - 2s 5ms/step - loss: 0.4523 - accuracy: 0.8335\n",
      "Epoch 20/20\n",
      "347/347 [==============================] - 2s 5ms/step - loss: 0.4501 - accuracy: 0.8346\n"
     ]
    },
    {
     "data": {
      "text/plain": [
       "<keras.src.callbacks.History at 0x26a7cdbbad0>"
      ]
     },
     "execution_count": 14,
     "metadata": {},
     "output_type": "execute_result"
    }
   ],
   "source": [
    "from tensorflow.keras.models import Sequential\n",
    "from tensorflow.keras.layers import Dense, Dropout\n",
    "from tensorflow.keras.utils import to_categorical\n",
    "\n",
    "y_cat = to_categorical(y)\n",
    "\n",
    "model = Sequential()\n",
    "model.add(Dense(128, input_shape=(X.shape[1],), activation='relu'))\n",
    "model.add(Dropout(0.5))\n",
    "model.add(Dense(64, activation='relu'))\n",
    "model.add(Dropout(0.3))\n",
    "model.add(Dense(y_cat.shape[1], activation='softmax'))\n",
    "\n",
    "model.compile(loss='categorical_crossentropy', optimizer='adam', metrics=['accuracy'])\n",
    "model.fit(X, y_cat, epochs=20, batch_size=8)\n"
   ]
  },
  {
   "cell_type": "code",
   "execution_count": 15,
   "id": "9e8448f7-e9e7-4d8f-9bbe-c6034b5f4ae1",
   "metadata": {},
   "outputs": [],
   "source": [
    "import numpy as np\n",
    "\n",
    "def predict_intent(text):\n",
    "    vec = vectorizer.transform([text]).toarray()\n",
    "    pred = model.predict(vec)[0]\n",
    "    intent = le.inverse_transform([np.argmax(pred)])[0]\n",
    "    return intent\n",
    "\n",
    "intent_to_response = df.groupby(\"Ticket Type\")[\"Resolution\"].apply(lambda x: x.sample(1).values[0]).to_dict()\n",
    "\n",
    "def get_bot_response(msg):\n",
    "    intent = predict_intent(msg)\n",
    "    return intent_to_response.get(intent, \"Sorry, I didn’t get that. Can you rephrase?\")\n"
   ]
  },
  {
   "cell_type": "code",
   "execution_count": 16,
   "id": "5b988100-d6ba-4f67-a1d9-91e51947885f",
   "metadata": {},
   "outputs": [
    {
     "name": "stdout",
     "output_type": "stream",
     "text": [
      " * Serving Flask app '__main__'\n",
      " * Debug mode: on\n"
     ]
    },
    {
     "name": "stderr",
     "output_type": "stream",
     "text": [
      "WARNING: This is a development server. Do not use it in a production deployment. Use a production WSGI server instead.\n",
      " * Running on http://127.0.0.1:5000\n",
      "Press CTRL+C to quit\n",
      " * Restarting with watchdog (windowsapi)\n"
     ]
    },
    {
     "ename": "SystemExit",
     "evalue": "1",
     "output_type": "error",
     "traceback": [
      "An exception has occurred, use %tb to see the full traceback.\n",
      "\u001b[1;31mSystemExit\u001b[0m\u001b[1;31m:\u001b[0m 1\n"
     ]
    },
    {
     "name": "stderr",
     "output_type": "stream",
     "text": [
      "C:\\Users\\roshi\\AppData\\Local\\Programs\\Python\\Python311\\Lib\\site-packages\\IPython\\core\\interactiveshell.py:3587: UserWarning: To exit: use 'exit', 'quit', or Ctrl-D.\n",
      "  warn(\"To exit: use 'exit', 'quit', or Ctrl-D.\", stacklevel=1)\n"
     ]
    }
   ],
   "source": [
    "from flask import Flask, request, render_template, jsonify\n",
    "\n",
    "app = Flask(__name__)\n",
    "\n",
    "@app.route(\"/\")\n",
    "def home():\n",
    "    return render_template(\"index.html\")\n",
    "\n",
    "@app.route(\"/get\", methods=[\"POST\"])\n",
    "def chatbot_response():\n",
    "    user_msg = request.form[\"msg\"]\n",
    "    bot_reply = get_bot_response(user_msg)\n",
    "    return jsonify({\"response\": bot_reply})\n",
    "\n",
    "if __name__ == \"__main__\":\n",
    "    app.run(debug=True)\n"
   ]
  },
  {
   "cell_type": "code",
   "execution_count": null,
   "id": "6943a0af-fe89-40ec-acf0-5fa4ceda7c83",
   "metadata": {},
   "outputs": [],
   "source": [
    "<!DOCTYPE html>\n",
    "<html>\n",
    "<head>\n",
    "    <title>Support Chatbot</title>\n",
    "</head>\n",
    "<body>\n",
    "    <h2>Chat with Support Bot</h2>\n",
    "    <form id=\"chat-form\">\n",
    "        <input id=\"msg\" type=\"text\" required>\n",
    "        <button type=\"submit\">Send</button>\n",
    "    </form>\n",
    "    <div id=\"chat-output\"></div>\n",
    "\n",
    "    <script>\n",
    "        const form = document.getElementById(\"chat-form\");\n",
    "        form.onsubmit = async (e) => {\n",
    "            e.preventDefault();\n",
    "            const msg = document.getElementById(\"msg\").value;\n",
    "            const res = await fetch(\"/get\", {\n",
    "                method: \"POST\",\n",
    "                headers: {\"Content-Type\": \"application/x-www-form-urlencoded\"},\n",
    "                body: \"msg=\" + encodeURIComponent(msg)\n",
    "            });\n",
    "            const data = await res.json();\n",
    "            document.getElementById(\"chat-output\").innerText = \"Bot: \" + data.response;\n",
    "        };\n",
    "    </script>\n",
    "</body>\n",
    "</html>\n"
   ]
  },
  {
   "cell_type": "code",
   "execution_count": null,
   "id": "579c2a4d-93db-4bae-a05f-8f2a4ff19ab8",
   "metadata": {},
   "outputs": [],
   "source": []
  }
 ],
 "metadata": {
  "kernelspec": {
   "display_name": "Python 3 (ipykernel)",
   "language": "python",
   "name": "python3"
  },
  "language_info": {
   "codemirror_mode": {
    "name": "ipython",
    "version": 3
   },
   "file_extension": ".py",
   "mimetype": "text/x-python",
   "name": "python",
   "nbconvert_exporter": "python",
   "pygments_lexer": "ipython3",
   "version": "3.11.8"
  }
 },
 "nbformat": 4,
 "nbformat_minor": 5
}
